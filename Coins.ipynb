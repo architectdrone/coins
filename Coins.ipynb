{
 "cells": [
  {
   "cell_type": "markdown",
   "id": "e5abbcb1",
   "metadata": {},
   "source": [
    "# Coins"
   ]
  },
  {
   "cell_type": "markdown",
   "id": "5a298239",
   "metadata": {},
   "source": [
    "## Statement of the problem\n",
    "\n",
    "Every currency system has denominations of currency. For example, for coins in the United States, we have pennies, nickels, dimes, and quarters, which are worth 1 cent, 5 cents, 10 cents, and 25 cents respectively. \n",
    "\n",
    "Consider the following scenario. You know that you will need to pay between 0 and 1 dollar, and want to make exact change. What is the minimum number of coins that you need? The answer is 3 quarters, 2 dimes, and 5 pennies, so 10 coins in total.\n",
    "\n",
    "The problem is this: find a denomination that minimizes this number."
   ]
  },
  {
   "cell_type": "markdown",
   "id": "6c20af7c",
   "metadata": {},
   "source": [
    "## Formalization\n",
    "\n",
    "We start with the notion of a denomination. To keep things separate, we will create a separate class for a single denomination system."
   ]
  },
  {
   "cell_type": "code",
   "execution_count": 1,
   "id": "0175b33c",
   "metadata": {},
   "outputs": [],
   "source": [
    "from math import floor, ceil\n",
    "\n",
    "class DenominationSet:\n",
    "    def __init__(self, denominations : list[int]):\n",
    "        self.denominations = denominations\n",
    "    \n",
    "    def __getitem__(self, i) -> int:\n",
    "        return self.denominations[i]\n",
    "    \n",
    "    def __len__(self) -> int:\n",
    "        return len(self.denominations)\n",
    "\n",
    "    def __str__(self) -> str:\n",
    "        return str(self.denominations)\n",
    "    \n",
    "    def __repr__(self):\n",
    "        return str(self)\n",
    "    \n",
    "    def __hash__(self):\n",
    "        return hash(str(self.denominations))\n",
    "    \n",
    "    def __eq__(self, obj):\n",
    "        return self.denominations == obj.denominations"
   ]
  },
  {
   "cell_type": "markdown",
   "id": "f37d512e",
   "metadata": {},
   "source": [
    "For example, here is the United States coins. (We require that they are ordered greatest to least)"
   ]
  },
  {
   "cell_type": "code",
   "execution_count": 2,
   "id": "7e9d1f1d",
   "metadata": {},
   "outputs": [],
   "source": [
    "us_coins = DenominationSet([25, 10, 5, 1])\n",
    "\n",
    "assert us_coins[0] == 25\n",
    "assert us_coins[1] == 10\n",
    "assert us_coins[2] == 5\n",
    "assert us_coins[3] == 1"
   ]
  },
  {
   "cell_type": "markdown",
   "id": "6725eb38",
   "metadata": {},
   "source": [
    "Next, we have a set of coins."
   ]
  },
  {
   "cell_type": "code",
   "execution_count": 3,
   "id": "bf4ea5d9",
   "metadata": {},
   "outputs": [
    {
     "name": "stdout",
     "output_type": "stream",
     "text": [
      "[(2*25), (1*10), (1*5), (3*1)]\n"
     ]
    }
   ],
   "source": [
    "class CoinSet:\n",
    "    def __init__(self, counts : list[int], denomination_set: DenominationSet):\n",
    "        self.denomination_set = denomination_set\n",
    "        self.counts = counts\n",
    "    \n",
    "    def __getitem__(self, i) -> int:\n",
    "        return self.counts[i]\n",
    "    \n",
    "    def __str__(self):\n",
    "        to_return = \"\"\n",
    "        for i in range(len(self.denomination_set)):\n",
    "            to_return += f\"({self[i]}*{self.denomination_set[i]}), \"\n",
    "        return f\"[{to_return[:-2]}]\"\n",
    "    \n",
    "    def __repr__(self):\n",
    "        return str(self)\n",
    "    \n",
    "    def __hash__(self):\n",
    "        return hash((self.denomination_set, str(self.counts)))\n",
    "    \n",
    "    def __eq__(self, obj):\n",
    "        return self.counts == obj.counts and self.denomination_set == obj.denomination_set\n",
    "    \n",
    "# 2 quarters, a dime, a nickel, and 3 pennies\n",
    "my_coins = CoinSet([2, 1, 1, 3], us_coins)\n",
    "\n",
    "assert my_coins[0] == 2\n",
    "assert my_coins[1] == 1\n",
    "assert my_coins[2] == 1\n",
    "assert my_coins[3] == 3\n",
    "assert my_coins.denomination_set == us_coins\n",
    "\n",
    "print(my_coins)"
   ]
  },
  {
   "cell_type": "markdown",
   "id": "60375716",
   "metadata": {},
   "source": [
    "## Basic Operations"
   ]
  },
  {
   "cell_type": "code",
   "execution_count": 4,
   "id": "c907ff67",
   "metadata": {},
   "outputs": [
    {
     "name": "stdout",
     "output_type": "stream",
     "text": [
      "68\n",
      "7\n"
     ]
    }
   ],
   "source": [
    "def get_total(coins: CoinSet) -> int:\n",
    "    count = 0\n",
    "    for i in range(len(coins.denomination_set)):\n",
    "        count += coins[i] * coins.denomination_set[i]\n",
    "    return count\n",
    "\n",
    "print(get_total(my_coins))\n",
    "\n",
    "def get_number_of_coins(coins: CoinSet) -> int:\n",
    "    count = 0\n",
    "    for i in range(len(coins.denomination_set)):\n",
    "        count+=coins[i]\n",
    "    return count\n",
    "\n",
    "print(get_number_of_coins(my_coins))"
   ]
  },
  {
   "cell_type": "code",
   "execution_count": 5,
   "id": "973da8f3",
   "metadata": {},
   "outputs": [
    {
     "name": "stdout",
     "output_type": "stream",
     "text": [
      "[(3*25), (2*10), (0*5), (4*1)]\n"
     ]
    }
   ],
   "source": [
    "#I think this is correct\n",
    "def get_minimum_required_coins_for_cost(cost : int, denomination_set: DenominationSet) -> CoinSet:\n",
    "    current_cost = cost\n",
    "    coins = []\n",
    "    for i in range(len(denomination_set)):\n",
    "        new_coins = floor(current_cost / denomination_set[i])\n",
    "        current_cost-=new_coins*denomination_set[i]\n",
    "        coins.append(new_coins)\n",
    "    return CoinSet(coins, denomination_set)\n",
    "\n",
    "print(get_minimum_required_coins_for_cost(99, us_coins))"
   ]
  },
  {
   "cell_type": "markdown",
   "id": "bf66ff19",
   "metadata": {},
   "source": [
    "## Naive Attempt"
   ]
  },
  {
   "cell_type": "code",
   "execution_count": 6,
   "id": "eced3d37",
   "metadata": {},
   "outputs": [
    {
     "name": "stdout",
     "output_type": "stream",
     "text": [
      "[1]\n",
      "[5, 1]\n",
      "[4, 1]\n",
      "[5, 4, 1]\n",
      "[3, 1]\n",
      "[5, 3, 1]\n",
      "[4, 3, 1]\n",
      "[5, 4, 3, 1]\n",
      "[2, 1]\n",
      "[5, 2, 1]\n",
      "[4, 2, 1]\n",
      "[5, 4, 2, 1]\n",
      "[3, 2, 1]\n",
      "[5, 3, 2, 1]\n",
      "[4, 3, 2, 1]\n",
      "[5, 4, 3, 2, 1]\n"
     ]
    }
   ],
   "source": [
    "# Get all denominations where the maximum coin is less than the specified maximum\n",
    "def get_all_possible_denominations(maximum : int) -> list[DenominationSet]:\n",
    "    denominations = []\n",
    "    for i in range(((2**(maximum-1)))):\n",
    "        denominations.append(DenominationSet([maximum-a for a in range(maximum) if (((i >> a) & 1) == 1)]+[1]))\n",
    "    return denominations\n",
    "\n",
    "for i in get_all_possible_denominations(5):\n",
    "    print(i)"
   ]
  },
  {
   "cell_type": "code",
   "execution_count": 7,
   "id": "017e7359",
   "metadata": {},
   "outputs": [],
   "source": [
    "from itertools import permutations\n",
    "import tabulate\n",
    "\n",
    "class SubsequenceDecay:\n",
    "    '''\n",
    "    Decay single.\n",
    "    '''\n",
    "    def decay(input):\n",
    "        for i_n in range(len(input)):\n",
    "            i = len(input) -1 - i_n\n",
    "            for j_n in range(len(input)-i):\n",
    "                j = j_n + i\n",
    "                if j <= i:\n",
    "                    continue\n",
    "                current = input[i]\n",
    "                next = input[j]\n",
    "                if next > current + 1:\n",
    "                    input[i] = current + 1\n",
    "                    input[j] = next - 1\n",
    "                    return input\n",
    "        return input\n",
    "    \n",
    "    def get_initial_state(i, r):\n",
    "        return [1 for i in range(i)] + [r]\n",
    "\n",
    "    def decay_fully(i, r):\n",
    "        current = SubsequenceDecay.get_initial_state(i, r)\n",
    "        yield current.copy()\n",
    "        previous = None\n",
    "        while current != previous:\n",
    "            previous = current.copy()\n",
    "            current = SubsequenceDecay.decay(current)\n",
    "            if current == previous:\n",
    "                break\n",
    "            yield current.copy()\n",
    "\n",
    "def get_all_permutations_summing_to_x(x : int, length: int):\n",
    "    if (x - length + 1 <= 0):\n",
    "        return\n",
    "    for ordered_sum in SubsequenceDecay.decay_fully(length - 1, x - length + 1):\n",
    "        for permutation in permutations(ordered_sum):\n",
    "            yield permutation\n",
    "    \n",
    "def can_coin_set_reach_total(coin_set : CoinSet, total : int):\n",
    "    current = total\n",
    "    for i in range(len(coin_set.denomination_set)):\n",
    "        if (current == 0):\n",
    "            return True\n",
    "        amount_taken = min(floor(current/coin_set.denomination_set[i]), coin_set[i])*coin_set.denomination_set[i]\n",
    "        current -= amount_taken\n",
    "    return current == 0\n",
    "\n",
    "USE_QUICK_COVERING_ANALYSIS = True\n",
    "USE_QUICK_COVERING_GENERATION = True # Does not return all covering coin sets!!!\n",
    "\n",
    "def evaluate_denomination_naive(maximum: int, d : DenominationSet, allow_vestigal = True, stop_search_at = None) -> list[CoinSet]:\n",
    "    #print(f\"================ Evaluating {d} ================\")\n",
    "    if USE_QUICK_COVERING_GENERATION:\n",
    "        return [get_minimum_covering_coin_set(d, maximum, allow_vestigal = allow_vestigal)]\n",
    "    else:\n",
    "        for x in range(maximum*2):\n",
    "            if stop_search_at != None and x > stop_search_at:\n",
    "                return None\n",
    "            #print(f\"===== X = {x} =====\")\n",
    "            solutions = []\n",
    "            done = False\n",
    "            for a in get_all_permutations_summing_to_x(x, len(d)):\n",
    "                coins = CoinSet( [e-1 for e in a] if allow_vestigal else a, d)\n",
    "                if USE_QUICK_COVERING_ANALYSIS:\n",
    "                    if is_covering_coin_set(coins, maximum):\n",
    "                        done = True\n",
    "                        solutions.append(coins)\n",
    "                else:\n",
    "                    can_reach_all = True\n",
    "                    for i in range(maximum):\n",
    "                        if not can_coin_set_reach_total(coins, i):\n",
    "                            can_reach_all = False\n",
    "                            break\n",
    "                    if can_reach_all:\n",
    "                        done = True\n",
    "                        solutions.append(coins)\n",
    "            if done == True:\n",
    "\n",
    "                return list(set(solutions))\n",
    "\n",
    "def evaluate(maximum: int, allow_vestigal = True, quick = False) -> list[dict]:\n",
    "    data = []\n",
    "    minimum = maximum*2\n",
    "    for d in get_all_possible_denominations(maximum):\n",
    "        result = evaluate_denomination_naive(maximum, d, allow_vestigal = allow_vestigal, stop_search_at = None if not quick else minimum)\n",
    "        if result == None:\n",
    "            continue\n",
    "        score = get_number_of_coins(result[0])\n",
    "        if (score < minimum and quick):\n",
    "            minimum = score\n",
    "            data = [] #All of the data is for greater values\n",
    "        elif (score > minimum and quick):\n",
    "            continue\n",
    "        data.append({\n",
    "            'denomination': d,\n",
    "            'score': get_number_of_coins(result[0]),\n",
    "            'number': len(result),\n",
    "            'results': result\n",
    "        })\n",
    "    data.sort(key= lambda a: a['score'])\n",
    "    \n",
    "    return data"
   ]
  },
  {
   "cell_type": "markdown",
   "id": "f0ebd59b",
   "metadata": {},
   "source": [
    "Here is the widget for evaluating this!"
   ]
  },
  {
   "cell_type": "code",
   "execution_count": 8,
   "id": "e60bdeac",
   "metadata": {},
   "outputs": [
    {
     "data": {
      "application/vnd.jupyter.widget-view+json": {
       "model_id": "ccf42809ba8d4f6a8412f0e4e4a97a3b",
       "version_major": 2,
       "version_minor": 0
      },
      "text/plain": [
       "BoundedIntText(value=10, description='Maximum:')"
      ]
     },
     "metadata": {},
     "output_type": "display_data"
    },
    {
     "data": {
      "application/vnd.jupyter.widget-view+json": {
       "model_id": "fe671fd5f1714435a2c08f5b44dc3d1d",
       "version_major": 2,
       "version_minor": 0
      },
      "text/plain": [
       "Checkbox(value=False, description='Allow Vestigal?', indent=False)"
      ]
     },
     "metadata": {},
     "output_type": "display_data"
    },
    {
     "data": {
      "application/vnd.jupyter.widget-view+json": {
       "model_id": "cb6e8f5d6ad34766bea56eeb962fb151",
       "version_major": 2,
       "version_minor": 0
      },
      "text/plain": [
       "Checkbox(value=True, description='Quick', indent=False)"
      ]
     },
     "metadata": {},
     "output_type": "display_data"
    },
    {
     "data": {
      "application/vnd.jupyter.widget-view+json": {
       "model_id": "aab8c16d0f5f4e26b32a2adc4b088b61",
       "version_major": 2,
       "version_minor": 0
      },
      "text/plain": [
       "Button(description='Compute', style=ButtonStyle())"
      ]
     },
     "metadata": {},
     "output_type": "display_data"
    }
   ],
   "source": [
    "import ipywidgets as widgets\n",
    "import time\n",
    "from IPython.display import HTML, display\n",
    "\n",
    "button = widgets.Button(description=\"Compute\")\n",
    "maximum_input = widgets.BoundedIntText(\n",
    "    value=10,\n",
    "    min=0,\n",
    "    max=100,\n",
    "    step=1,\n",
    "    description='Maximum:',\n",
    "    disabled=False\n",
    ")\n",
    "allow_vestigal_input = widgets.Checkbox(\n",
    "    value=False,\n",
    "    description='Allow Vestigal?',\n",
    "    disabled=False,\n",
    "    indent=False\n",
    ")\n",
    "quick_input = widgets.Checkbox(\n",
    "    value=True,\n",
    "    description='Quick',\n",
    "    disabled=False,\n",
    "    indent=False\n",
    ")\n",
    "\n",
    "def run_evaluation(a):\n",
    "    start_time = time.time()\n",
    "    table = tabulate.tabulate(evaluate(maximum_input.value, allow_vestigal=allow_vestigal_input.value, quick=quick_input.value)[:100], tablefmt='html', headers='keys')\n",
    "    display(table)\n",
    "    print(f\"Completed in {time.time()-start_time} seconds.\")\n",
    "\n",
    "button.on_click(run_evaluation)\n",
    "display(maximum_input)\n",
    "display(allow_vestigal_input)\n",
    "display(quick_input)\n",
    "display(button)\n"
   ]
  },
  {
   "cell_type": "code",
   "execution_count": 9,
   "id": "f010f4ad",
   "metadata": {},
   "outputs": [
    {
     "data": {
      "application/vnd.jupyter.widget-view+json": {
       "model_id": "e844393ba3a14d0ab2708c12555c25ce",
       "version_major": 2,
       "version_minor": 0
      },
      "text/plain": [
       "Text(value='1,1,1', description='Covering Coin Set')"
      ]
     },
     "metadata": {},
     "output_type": "display_data"
    },
    {
     "data": {
      "application/vnd.jupyter.widget-view+json": {
       "model_id": "46916bf6f30f4d7fbd19d1f06a21b83f",
       "version_major": 2,
       "version_minor": 0
      },
      "text/plain": [
       "Text(value='4,2,1', description='Denomination')"
      ]
     },
     "metadata": {},
     "output_type": "display_data"
    },
    {
     "data": {
      "application/vnd.jupyter.widget-view+json": {
       "model_id": "5b15ab4c9d644af3b48e90560b1b609f",
       "version_major": 2,
       "version_minor": 0
      },
      "text/plain": [
       "BoundedIntText(value=3, description='Maximum:')"
      ]
     },
     "metadata": {},
     "output_type": "display_data"
    },
    {
     "data": {
      "application/vnd.jupyter.widget-view+json": {
       "model_id": "1a5b2ea1bd0b430aad7a58220ad43446",
       "version_major": 2,
       "version_minor": 0
      },
      "text/plain": [
       "Button(description='Get Reaching Coin Sets', style=ButtonStyle())"
      ]
     },
     "metadata": {},
     "output_type": "display_data"
    }
   ],
   "source": [
    "def get_reaching_coin_set(coin_set : CoinSet, total : int):\n",
    "    current = total\n",
    "    reaching_coin_set = []\n",
    "    for i in range(len(coin_set.denomination_set)):\n",
    "        if (current == 0):\n",
    "            reaching_coin_set.append(0)\n",
    "            continue\n",
    "        coins_taken = min(floor(current/coin_set.denomination_set[i]), coin_set[i])\n",
    "        amount_taken = coins_taken*coin_set.denomination_set[i]\n",
    "        reaching_coin_set.append(coins_taken)\n",
    "        current -= amount_taken\n",
    "    return CoinSet(reaching_coin_set, coin_set.denomination_set)\n",
    "\n",
    "def string_to_coin_set(string, denomination):\n",
    "    coin_values = string.split(\",\")\n",
    "    return CoinSet([int(a) for a in coin_values], denomination)\n",
    "    \n",
    "def string_to_denomination(string):\n",
    "    denomination_values = string.split(\",\")\n",
    "    return DenominationSet([int(a) for a in denomination_values])\n",
    "    \n",
    "coin_set_input = widgets.Text(\n",
    "    value='1,1,1',\n",
    "    description='Covering Coin Set',\n",
    ")\n",
    "denomination_set_input = widgets.Text(\n",
    "    value='4,2,1',\n",
    "    description='Denomination',\n",
    ")\n",
    "button = widgets.Button(description=\"Get Reaching Coin Sets\")\n",
    "maximum_input = widgets.BoundedIntText(\n",
    "    value=3,\n",
    "    min=0,\n",
    "    max=100,\n",
    "    step=1,\n",
    "    description='Maximum:',\n",
    "    disabled=False\n",
    ")\n",
    "\n",
    "def display_reaching_coin_sets(a):\n",
    "    maximum = maximum_input.value\n",
    "    denomination = string_to_denomination(denomination_set_input.value)\n",
    "    if coin_set_input.value != \"\":\n",
    "        \n",
    "        covering_coin_set = string_to_coin_set(coin_set_input.value, denomination)\n",
    "    else:\n",
    "        covering_coin_set = evaluate_denomination_naive(maximum, denomination, allow_vestigal = False)[0]\n",
    "    data = []\n",
    "    for i in range(maximum):\n",
    "        reaching_coin_set = get_reaching_coin_set(covering_coin_set, i)\n",
    "        new_data = {}\n",
    "        new_data['total'] = i\n",
    "        for j in range(len(reaching_coin_set.denomination_set)):\n",
    "            new_data[str(reaching_coin_set.denomination_set[j])] = reaching_coin_set[j]\n",
    "        data.append(new_data)\n",
    "    table = tabulate.tabulate(data, tablefmt='html', headers='keys')\n",
    "    display(table)\n",
    "\n",
    "button.on_click(display_reaching_coin_sets)\n",
    "        \n",
    "display(coin_set_input)\n",
    "display(denomination_set_input)\n",
    "display(maximum_input)\n",
    "display(button)"
   ]
  },
  {
   "cell_type": "markdown",
   "id": "7bd6a650",
   "metadata": {},
   "source": [
    "## Observations from Naive Attempt"
   ]
  },
  {
   "cell_type": "markdown",
   "id": "776e542f",
   "metadata": {},
   "source": [
    "### On verifying and generating covering sets\n",
    "\n",
    "I think, but have not proven, that there is a relationship that holds for all covering coin sets. This relationship is given by:\n",
    "\n",
    "$$d_{n}\\leq(\\sum_{n-1}^{i=1}d_{i}c_{i})+1$$\n",
    "\n",
    "If we rearrange these terms, we can solve for $c_{n}$\n",
    "\n",
    "$$c_{n}\\geq\\frac{d_{n+1}-(\\sum_{n-1}^{i=1} d_{i}c_{i})-1}{d_{n}}$$"
   ]
  },
  {
   "cell_type": "code",
   "execution_count": 10,
   "id": "f1585487",
   "metadata": {},
   "outputs": [
    {
     "name": "stdout",
     "output_type": "stream",
     "text": [
      "False\n",
      "True\n"
     ]
    }
   ],
   "source": [
    "def is_covering_coin_set(coin_set: CoinSet, maximum: int):\n",
    "    running_sum = 0\n",
    "    for n in range(len(coin_set.denomination_set)):\n",
    "        d_n1 = 0\n",
    "        if (n == len(coin_set.denomination_set)-1):\n",
    "            d_n1 = maximum\n",
    "        else:\n",
    "            d_n1 = coin_set.denomination_set[len(coin_set.denomination_set)- (n+1) -1]\n",
    "        d_n = coin_set.denomination_set[len(coin_set.denomination_set)-n -1]\n",
    "        c_n = coin_set[len(coin_set.denomination_set) - n -1]\n",
    "        if c_n < ((d_n1 - running_sum -1)/(d_n)):\n",
    "            return False\n",
    "        running_sum += d_n*c_n\n",
    "    return True\n",
    "\n",
    "d = DenominationSet([6,3,1])\n",
    "print(is_covering_coin_set(CoinSet([1,1,1], d), 10))\n",
    "print(is_covering_coin_set(CoinSet([1,1,3], d), 10))"
   ]
  },
  {
   "cell_type": "markdown",
   "id": "fdf8f651",
   "metadata": {},
   "source": [
    "To test this relationship, we can leverage the naive solution and compare."
   ]
  },
  {
   "cell_type": "code",
   "execution_count": 11,
   "id": "e7dbeaef",
   "metadata": {},
   "outputs": [
    {
     "data": {
      "application/vnd.jupyter.widget-view+json": {
       "model_id": "6f6ead35156d4d9e921e684bf4647061",
       "version_major": 2,
       "version_minor": 0
      },
      "text/plain": [
       "BoundedIntText(value=3, description='Maximum:')"
      ]
     },
     "metadata": {},
     "output_type": "display_data"
    },
    {
     "data": {
      "application/vnd.jupyter.widget-view+json": {
       "model_id": "eacb2b59d4604adeaf30c452a1007b29",
       "version_major": 2,
       "version_minor": 0
      },
      "text/plain": [
       "Button(description='Perform Test', style=ButtonStyle())"
      ]
     },
     "metadata": {},
     "output_type": "display_data"
    }
   ],
   "source": [
    "def test_covering_coin_set_evaluator(maximum):\n",
    "    for d in get_all_possible_denominations(maximum):\n",
    "        for x in range(maximum*2):\n",
    "            solutions = []\n",
    "            done = False\n",
    "            for a in get_all_permutations_summing_to_x(x, len(d)):\n",
    "                coins = CoinSet(a, d)\n",
    "                can_reach_all = True\n",
    "                for i in range(maximum):\n",
    "                    if not can_coin_set_reach_total(coins, i):\n",
    "                        can_reach_all = False\n",
    "                        break\n",
    "                assert can_reach_all == is_covering_coin_set(coins, maximum)\n",
    "                if (can_reach_all):\n",
    "                    done = True\n",
    "            if done:\n",
    "                break\n",
    "perform_test_button = widgets.Button(description=\"Perform Test\")\n",
    "maximum_input = widgets.BoundedIntText(\n",
    "    value=3,\n",
    "    min=0,\n",
    "    max=100,\n",
    "    step=1,\n",
    "    description='Maximum:',\n",
    "    disabled=False\n",
    ")\n",
    "\n",
    "def run_test(a):\n",
    "    test_covering_coin_set_evaluator(maximum_input.value)\n",
    "    print(\"Done!\")\n",
    "\n",
    "perform_test_button.on_click(run_test)\n",
    "    \n",
    "display(maximum_input)\n",
    "display(perform_test_button)"
   ]
  },
  {
   "cell_type": "markdown",
   "id": "7da39959",
   "metadata": {},
   "source": [
    "It sure seems like it holds.\n",
    "\n",
    "If it holds, we can actually generate covering coin sets by setting the greater than to equals! Ergo, we can skip searching for a covering coin set..."
   ]
  },
  {
   "cell_type": "code",
   "execution_count": 12,
   "id": "bfc00cdc",
   "metadata": {},
   "outputs": [
    {
     "name": "stdout",
     "output_type": "stream",
     "text": [
      "[(1*5), (2*2), (1*1)]\n",
      "[(1*8), (2*3), (1*2), (1*1)]\n"
     ]
    }
   ],
   "source": [
    "def get_minimum_covering_coin_set(d : DenominationSet, maximum: int, allow_vestigal = False) -> CoinSet:\n",
    "    running_sum = 0\n",
    "    coins = []\n",
    "    for n in range(len(d)):\n",
    "        d_n1 = 0\n",
    "        if (n == len(d)-1):\n",
    "            d_n1 = maximum\n",
    "        else:\n",
    "            d_n1 = d[len(d)- (n+1) -1]\n",
    "        d_n = d[len(d)-n -1]\n",
    "        c_n = ceil((d_n1 - running_sum -1)/(d_n))\n",
    "        if not allow_vestigal and c_n <= 0:\n",
    "            c_n = 1\n",
    "        coins = [c_n] + coins\n",
    "        running_sum += d_n*c_n\n",
    "    return CoinSet(coins, d)\n",
    "\n",
    "print(get_minimum_covering_coin_set(DenominationSet([5, 2, 1]), 10))\n",
    "print(get_minimum_covering_coin_set(DenominationSet([8,3,2,1]), 10))"
   ]
  },
  {
   "cell_type": "markdown",
   "id": "cc42015f",
   "metadata": {},
   "source": [
    "The unfortunate thing is that it only returns one covering coin set, as opposed to the several that may exist. For example, for [5, 2, 1], there are 2 covering coin sets, [1, 2, 1] and [1, 1, 2]. I'm sure that I can figure out why this is eventually but ATM there is no theory for it. TODO.\n",
    "\n",
    "Despite this, I went ahead and added this as an optional toggle. This improvement sped up the computation speed by 10!"
   ]
  },
  {
   "cell_type": "markdown",
   "id": "3e686a50",
   "metadata": {},
   "source": [
    "### On generating denominations\n",
    "\n",
    "Possibly more importantly, we can use this equation to generate denominations that fit a covering coin set, allowing us to effectively go backwards: Start with a covering coin set, and derive what the denomination must be! We simply make the greater than or equal to just an equals..."
   ]
  },
  {
   "cell_type": "code",
   "execution_count": 13,
   "id": "aec45961",
   "metadata": {},
   "outputs": [
    {
     "name": "stdout",
     "output_type": "stream",
     "text": [
      "([6, 3, 1], 12)\n"
     ]
    }
   ],
   "source": [
    "def get_prime_denomination(covering_coin_set: list[int], tabular_mode = False) -> tuple[DenominationSet, int]:\n",
    "    running_sum = 0\n",
    "    denomination = []\n",
    "    if tabular_mode:\n",
    "        data = []\n",
    "    for i in range(len(covering_coin_set)):\n",
    "        if i == 0:\n",
    "            d_n = 1\n",
    "        else:\n",
    "            d_n = running_sum + 1\n",
    "        denomination = [d_n] + denomination\n",
    "        c_n = covering_coin_set[len(covering_coin_set)-i-1]\n",
    "        running_sum+=c_n*d_n\n",
    "        if tabular_mode:\n",
    "            data.append({\n",
    "                'Dn' : d_n,\n",
    "                'Cn' : c_n,\n",
    "                \"Sigma\": running_sum\n",
    "            })\n",
    "    if (tabular_mode):\n",
    "        return data\n",
    "    else:\n",
    "        return (DenominationSet(denomination), running_sum+1)\n",
    "\n",
    "print(get_prime_denomination([1,1,2]))"
   ]
  },
  {
   "cell_type": "code",
   "execution_count": 14,
   "id": "6f614cb9",
   "metadata": {},
   "outputs": [
    {
     "data": {
      "application/vnd.jupyter.widget-view+json": {
       "model_id": "7a65c0e243794670ae404c45efd7ca16",
       "version_major": 2,
       "version_minor": 0
      },
      "text/plain": [
       "Text(value='1,1,1', description='Covering Coin Set')"
      ]
     },
     "metadata": {},
     "output_type": "display_data"
    },
    {
     "data": {
      "application/vnd.jupyter.widget-view+json": {
       "model_id": "05bff6a2f23b4ecca36b1343971d9f33",
       "version_major": 2,
       "version_minor": 0
      },
      "text/plain": [
       "Button(description='Generate', style=ButtonStyle())"
      ]
     },
     "metadata": {},
     "output_type": "display_data"
    }
   ],
   "source": [
    "coin_set_input = widgets.Text(\n",
    "    value='1,1,1',\n",
    "    description='Covering Coin Set',\n",
    ")\n",
    "button = widgets.Button(description = \"Generate\")\n",
    "\n",
    "def output_table(a):\n",
    "    table = tabulate.tabulate(get_prime_denomination([int(i) for i in coin_set_input.value.split(\",\")], tabular_mode = True), tablefmt='html', headers='keys')\n",
    "    display(table)\n",
    "    \n",
    "button.on_click(output_table)\n",
    "\n",
    "display(coin_set_input)\n",
    "display(button)"
   ]
  },
  {
   "cell_type": "markdown",
   "id": "3361c621",
   "metadata": {},
   "source": [
    "Now, the problem is that this only outputs one denomination. I call this denomination the **prime denomination** of a covering coin set.\n",
    "\n",
    "Furthermore, you'll notice that this function does not rely on the maximum value at all. Indeed, the maximum value representable by a covering coin set is dependent only upon the coin set itself, not the denomination. The maximum value that it is able to represent is conveinently given by the total cost of the covering coin set, which is computed as a by-product of determining the denomination. I call this number the covering coin set's **power**.\n",
    "\n",
    "What about the other, **non-prime** denominations? These occur within the context of a maximum. If the prime denomination's power is greater than the maximum, then there *may* be non-prime denominations. This is due to the fact that we solved for the prime denomination by only considering the \"equality\" case, while \"less than\" is still an option.\n",
    "\n",
    "$$\\alpha=\\frac{prime-maximum}{c_{n}}$$\n",
    "\n",
    "$ \\alpha $ represents the maximum amount \"n\" can decrease while still working for the maximum. Of course, we require that\n",
    "\n",
    "$$\\alpha<d_{n}-d_{n-1}$$\n",
    "\n",
    "...or else we would go below the previous denomination! TODO: This doesn't 100% work"
   ]
  },
  {
   "cell_type": "code",
   "execution_count": 15,
   "id": "56f8e1f7",
   "metadata": {},
   "outputs": [
    {
     "name": "stdout",
     "output_type": "stream",
     "text": [
      "i 0 d_n 8 d_n1 4 c_n 1\n",
      "\tincomplete ([], 16) alpha_a 6.0 alpha_b 4 alpha 4\n",
      "\t\tAppending 8, Power = 16\n",
      "\t\tAppending 7, Power = 15\n",
      "\t\tAppending 6, Power = 14\n",
      "\t\tAppending 5, Power = 13\n",
      "i 1 d_n 4 d_n1 2 c_n 1\n",
      "\tincomplete ([8], 16) alpha_a 6.0 alpha_b 2 alpha 2\n",
      "\t\tAppending 4, Power = 16\n",
      "\t\tAppending 3, Power = 15\n",
      "\tincomplete ([7], 15) alpha_a 5.0 alpha_b 2 alpha 2\n",
      "\t\tAppending 4, Power = 15\n",
      "\t\tAppending 3, Power = 14\n",
      "\tincomplete ([6], 14) alpha_a 4.0 alpha_b 2 alpha 2\n",
      "\t\tAppending 4, Power = 14\n",
      "\t\tAppending 3, Power = 13\n",
      "\tincomplete ([5], 13) alpha_a 3.0 alpha_b 2 alpha 2\n",
      "\t\tAppending 4, Power = 13\n",
      "\t\tAppending 3, Power = 12\n",
      "i 2 d_n 2 d_n1 1 c_n 1\n",
      "\tincomplete ([8, 4], 16) alpha_a 6.0 alpha_b 1 alpha 1\n",
      "\t\tAppending 2, Power = 16\n",
      "\tincomplete ([8, 3], 15) alpha_a 5.0 alpha_b 1 alpha 1\n",
      "\t\tAppending 2, Power = 15\n",
      "\tincomplete ([7, 4], 15) alpha_a 5.0 alpha_b 1 alpha 1\n",
      "\t\tAppending 2, Power = 15\n",
      "\tincomplete ([7, 3], 14) alpha_a 4.0 alpha_b 1 alpha 1\n",
      "\t\tAppending 2, Power = 14\n",
      "\tincomplete ([6, 4], 14) alpha_a 4.0 alpha_b 1 alpha 1\n",
      "\t\tAppending 2, Power = 14\n",
      "\tincomplete ([6, 3], 13) alpha_a 3.0 alpha_b 1 alpha 1\n",
      "\t\tAppending 2, Power = 13\n",
      "\tincomplete ([5, 4], 13) alpha_a 3.0 alpha_b 1 alpha 1\n",
      "\t\tAppending 2, Power = 13\n",
      "\tincomplete ([5, 3], 12) alpha_a 2.0 alpha_b 1 alpha 1\n",
      "\t\tAppending 2, Power = 12\n",
      "[[[8, 4, 2, 1]], [[8, 3, 2, 1]], [[7, 4, 2, 1]], [[7, 3, 2, 1]], [[6, 4, 2, 1]], [[6, 3, 2, 1]], [[5, 4, 2, 1]], [[5, 3, 2, 1]]]\n"
     ]
    }
   ],
   "source": [
    "def get_all_denominations_for_covering_coin_set(covering_coin_set: list[int], maximum : int) -> list[DenominationSet]:\n",
    "    prime, power = get_prime_denomination(covering_coin_set)\n",
    "        \n",
    "    if (power < maximum):\n",
    "        return []\n",
    "    elif (power == maximum):\n",
    "        return [prime]\n",
    "    \n",
    "    #First element is the incomplete denomination, second is the remaining power\n",
    "    incomplete_denominations = [([], power)]\n",
    "    for i in range(len(covering_coin_set)):\n",
    "        if i == len(covering_coin_set)-1:\n",
    "            continue\n",
    "        d_n = prime[i]\n",
    "        d_n1 = prime[i+1]\n",
    "        c_n = covering_coin_set[i]\n",
    "        print(f\"i {i} d_n {d_n} d_n1 {d_n1} c_n {c_n}\")\n",
    "        new_incomplete_denominations = []\n",
    "        for incomplete_denomination in incomplete_denominations:\n",
    "            alpha = min(int((incomplete_denomination[1]-maximum)/c_n), d_n - d_n1)\n",
    "            print(f\"\\tincomplete {incomplete_denomination} alpha_a {(incomplete_denomination[1]-maximum)/c_n} alpha_b {d_n - d_n1} alpha {alpha}\")\n",
    "            if alpha <= 0:\n",
    "                print(f\"\\t\\tCan do nothing else here. Appending {d_n}\")\n",
    "                new_incomplete_denominations.append((incomplete_denomination[0] + [d_n], incomplete_denomination[1]))\n",
    "            else:\n",
    "                for a in range(alpha):\n",
    "                    new_denomination = d_n-a\n",
    "                    new_power = incomplete_denomination[1]-a*c_n\n",
    "                    print(f\"\\t\\tAppending {new_denomination}, Power = {new_power}\")\n",
    "                    new_incomplete_denominations.append((incomplete_denomination[0] + [new_denomination], new_power))\n",
    "        incomplete_denominations = new_incomplete_denominations\n",
    "    return [DenominationSet([i[0]+[1]]) for i in incomplete_denominations]\n",
    "\n",
    "print(get_all_denominations_for_covering_coin_set([1,1,1,1], 10))"
   ]
  },
  {
   "cell_type": "markdown",
   "id": "af6a1529",
   "metadata": {},
   "source": [
    "So, given that the poewr of a covering coin set is only depedent on the coin set, the question is can we get a form of the equation that does not rely on denominations at all? Of course! There is a fascinating relationship I just discovered that could crack this case wide open\n",
    "\n",
    "$$ d_{n}=(\\sum_{n-1}^{i=1}d_{i}c_{i})+1 $$\n",
    "\n",
    "$$d_{1}=1 $$\n",
    "\n",
    "$$d_{2}=d_{1}c_{1}+1$$\n",
    "\n",
    "$$=c_{1}+1$$\n",
    "\n",
    "$$d_{3}=d_{2}c_{2}+d_{1}c_{1}+1$$\n",
    "\n",
    "$$=(c_{1}+1)c_{2}+c_{1}+1$$\n",
    "\n",
    "$$=(c_{1}+1)(c_{2}+1)$$\n",
    "\n",
    "That is,\n",
    "\n",
    "$$d_{n}=\\prod_{i=1}^{n-1}c_{i}+1$$\n",
    "\n",
    "The interesting thing is that this means that d_n will be the same regardless of the order of the predecssor coins! Let's test this theory"
   ]
  },
  {
   "cell_type": "code",
   "execution_count": 16,
   "id": "14cd82e7",
   "metadata": {},
   "outputs": [
    {
     "name": "stdout",
     "output_type": "stream",
     "text": [
      "[60, 20, 5, 1] 60\n",
      "[60, 15, 5, 1] 60\n",
      "[60, 12, 3, 1] 60\n",
      "[60, 12, 4, 1] 60\n",
      "[60, 20, 4, 1] 60\n"
     ]
    }
   ],
   "source": [
    "def fast_computation_of_dn(coins):\n",
    "    a = 1\n",
    "    \n",
    "    for i in coins[1:]:\n",
    "        a*=(i+1)\n",
    "    return a\n",
    "\n",
    "def demonstrate_rearrangement(coins):\n",
    "    print(get_prime_denomination(coins)[0], fast_computation_of_dn(coins))\n",
    "\n",
    "    \n",
    "demonstrate_rearrangement([1,2,3,4])\n",
    "demonstrate_rearrangement([1,3,2,4])\n",
    "demonstrate_rearrangement([1,4,3,2])\n",
    "demonstrate_rearrangement([1,4,2,3])\n",
    "demonstrate_rearrangement([1,2,4,3])\n"
   ]
  },
  {
   "cell_type": "markdown",
   "id": "f2363efa",
   "metadata": {},
   "source": [
    "(Oh, also, the power of the covering coin set is just d_n+1)"
   ]
  }
 ],
 "metadata": {
  "interpreter": {
   "hash": "81794d4967e6c3204c66dcd87b604927b115b27c00565d3d43f05ba2f3a2cb0d"
  },
  "kernelspec": {
   "display_name": "Python 3.9.0 64-bit (system)",
   "language": "python",
   "name": "python3"
  },
  "language_info": {
   "codemirror_mode": {
    "name": "ipython",
    "version": 3
   },
   "file_extension": ".py",
   "mimetype": "text/x-python",
   "name": "python",
   "nbconvert_exporter": "python",
   "pygments_lexer": "ipython3",
   "version": "3.9.0"
  }
 },
 "nbformat": 4,
 "nbformat_minor": 5
}
